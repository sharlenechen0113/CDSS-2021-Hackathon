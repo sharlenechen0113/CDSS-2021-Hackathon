{
  "nbformat": 4,
  "nbformat_minor": 0,
  "metadata": {
    "colab": {
      "name": "regression on news (source only).ipynb",
      "provenance": [],
      "authorship_tag": "ABX9TyPUlwXpTPWI8ql+YqC8+dpB",
      "include_colab_link": true
    },
    "kernelspec": {
      "name": "python3",
      "display_name": "Python 3"
    },
    "language_info": {
      "name": "python"
    }
  },
  "cells": [
    {
      "cell_type": "markdown",
      "metadata": {
        "id": "view-in-github",
        "colab_type": "text"
      },
      "source": [
        "<a href=\"https://colab.research.google.com/github/sharlenechen0113/CDSS-2021-Hackathon/blob/main/regression_on_news_(source_only).ipynb\" target=\"_parent\"><img src=\"https://colab.research.google.com/assets/colab-badge.svg\" alt=\"Open In Colab\"/></a>"
      ]
    },
    {
      "cell_type": "code",
      "metadata": {
        "id": "R6BKqNQJhkCc"
      },
      "source": [
        "from google.colab import drive\n",
        "drive.mount('/content/drive', force_remount=True)"
      ],
      "execution_count": null,
      "outputs": []
    },
    {
      "cell_type": "code",
      "metadata": {
        "id": "PSbjdpEJiGao"
      },
      "source": [
        "import pandas as pd\n",
        "\n",
        "lists = ['05-01-2020', '07-01-2020','09-01-2020','11-01-2020']\n",
        "final_news_real = pd.DataFrame({\"news_id\":[],\"tweet_id\":[],\"reply_id\":[]})\n",
        "final_news_fake = pd.DataFrame({\"news_id\":[],\"tweet_id\":[],\"reply_id\":[]})\n",
        "\n",
        "for link in lists:\n",
        "  news_real = pd.read_csv('drive/MyDrive/Data_Hackathon/Data/{}/NewsRealCOVID-19.csv'.format(link))\n",
        "  news_real_tweets = pd.read_csv('drive/MyDrive/Data_Hackathon/Data/{}/NewsRealCOVID-19_tweets.csv'.format(link))\n",
        "  news_real_replies = pd.read_csv('drive/MyDrive/Data_Hackathon/Data/{}/NewsRealCOVID-19_tweets_replies.csv'.format(link))\n",
        "\n",
        "  # real tweets counts \n",
        "  sum_of_tweets = news_real_tweets.groupby(['index']).tweet_id.count().reset_index()\n",
        "  sum_of_tweets.rename(columns = {'index':'news_id'},inplace=True)\n",
        "\n",
        "  # real replies counts\n",
        "  sum_of_replies_real = news_real_replies.groupby(['news_id']).reply_id.count().reset_index()\n",
        "  sum_of_replies_real_by_tweet = news_real_replies.groupby(['news_id','tweet_id']).reply_id.count().reset_index()\n",
        "\n",
        "  news_real_sum = sum_of_tweets.merge(sum_of_replies_real,how='left',on='news_id')\n",
        "  news_real_sum['reply_id'].fillna(0,inplace=True)\n",
        "  # news_real.rename(columns={'index':'news_id'},inplace=True)\n",
        "  news_real_sum = news_real.merge(news_real_sum,left_index=True,right_on='news_id')\n",
        "  final_news_real = pd.concat([final_news_real, news_real_sum])\n",
        "\n",
        "\n",
        "  news_fake = pd.read_csv('drive/MyDrive/Data_Hackathon/Data/{}/NewsFakeCOVID-19.csv'.format(link))\n",
        "  news_fake_tweets = pd.read_csv('drive/MyDrive/Data_Hackathon/Data/{}/NewsFakeCOVID-19_tweets.csv'.format(link))\n",
        "  news_fake_replies = pd.read_csv('drive/MyDrive/Data_Hackathon/Data/{}/NewsFakeCOVID-19_tweets_replies.csv'.format(link))\n",
        "\n",
        "  # real tweets counts \n",
        "  sum_of_tweets_fake = news_fake_tweets.groupby(['index']).tweet_id.count().reset_index()\n",
        "  sum_of_tweets_fake.rename(columns = {'index':'news_id'},inplace=True)\n",
        "\n",
        "  # real replies counts\n",
        "  sum_of_replies_fake = news_fake_replies.groupby(['news_id']).reply_id.count().reset_index()\n",
        "  sum_of_replies_fake_by_tweet = news_fake_replies.groupby(['news_id','tweet_id']).reply_id.count().reset_index()\n",
        "\n",
        "  news_fake_sum = sum_of_tweets_fake.merge(sum_of_replies_fake,how='left',on='news_id')\n",
        "  news_fake_sum['reply_id'].fillna(0,inplace=True)\n",
        "  # news_fake.rename(columns={'index':'news_id'},inplace=True)\n",
        "  news_fake_sum = news_fake.merge(news_fake_sum,left_index=True,right_on='news_id')\n",
        "  final_news_fake = pd.concat([final_news_fake, news_fake_sum])\n",
        "\n",
        "print(final_news_real)"
      ],
      "execution_count": null,
      "outputs": []
    },
    {
      "cell_type": "code",
      "metadata": {
        "id": "uXyVrcJpiGji"
      },
      "source": [
        "final_news_real['label'] = 0\n",
        "final_news_fake['label'] = 1\n",
        "final_news = pd.concat([final_news_real,final_news_fake],ignore_index=True)\n",
        "print(final_news)\n",
        "print(final_news.tweet_id.max())\n",
        "print(final_news.reply_id.max())\n",
        "\n",
        "import matplotlib.pyplot as plt\n",
        "import seaborn as sns\n",
        "\n",
        "plot = sns.lmplot(x='tweet_id',y='reply_id',data=final_news,hue='label',lowess=True)\n",
        "plot.set(xlim=(0,500))\n",
        "plt.xlabel('tweet_counts')\n",
        "plt.ylabel('reply_counts')\n",
        "# plt.scatter(final_news_real.tweet_id,final_news_real.reply_id)\n",
        "plt.show()"
      ],
      "execution_count": null,
      "outputs": []
    },
    {
      "cell_type": "code",
      "metadata": {
        "id": "BUnWUZp39fQM"
      },
      "source": [
        "final_news['engagement'] = final_news.tweet_id + final_news.reply_id\n",
        "print(final_news.head())"
      ],
      "execution_count": null,
      "outputs": []
    },
    {
      "cell_type": "code",
      "metadata": {
        "id": "mdjWh7wzA25x"
      },
      "source": [
        "sns.barplot(x='tweet_id',y='title',data=final_news_real[['title','tweet_id']][0:10].sort_values(by='tweet_id'),orient='h', color='tomato')\n",
        "plt.show()"
      ],
      "execution_count": null,
      "outputs": []
    },
    {
      "cell_type": "code",
      "metadata": {
        "id": "CtQyXMbIOz7Y"
      },
      "source": [
        "sns.barplot(x='tweet_id',y='title',data=final_news_fake[['title','tweet_id']][0:10].sort_values(by='tweet_id'),orient='h', color='tomato')\n",
        "plt.show()"
      ],
      "execution_count": null,
      "outputs": []
    },
    {
      "cell_type": "code",
      "metadata": {
        "id": "3jw2dYeXt4vA"
      },
      "source": [
        "final_news.drop(columns=['news_url2','news_url3','news_url4','news_url5','publish_date','archive','Unnamed: 0'],inplace=True)"
      ],
      "execution_count": null,
      "outputs": []
    },
    {
      "cell_type": "code",
      "metadata": {
        "id": "LmncztXp1S9Z"
      },
      "source": [
        "final_news.drop(columns=['abstract','content','newstitle','meta_keywords'],inplace=True)"
      ],
      "execution_count": null,
      "outputs": []
    },
    {
      "cell_type": "code",
      "metadata": {
        "id": "JSos2P4O_wGx"
      },
      "source": [
        "final_news['source'] = final_news['news_url'].str.split(\"//\").str[1].str.split('/').str[0]"
      ],
      "execution_count": null,
      "outputs": []
    },
    {
      "cell_type": "code",
      "metadata": {
        "id": "58p-UAorDhbM"
      },
      "source": [
        "final_news.rename(columns={\"tweet_id\":\"tweet_counts\"},inplace=True)\n",
        "final_news.rename(columns={\"reply_id\":\"reply_counts\"},inplace=True)\n",
        "final_news.rename(columns={\"type\":\"types\"},inplace=True)\n",
        "\n",
        "type_col = pd.get_dummies(final_news.types,prefix='Type')\n",
        "final_news.drop(columns=['types'],inplace=True)\n",
        "final_news = final_news.join(type_col)"
      ],
      "execution_count": null,
      "outputs": []
    },
    {
      "cell_type": "code",
      "metadata": {
        "id": "Y_Wd9Fo5GT4q"
      },
      "source": [
        "def if_social_media(row):\n",
        "  if row['source'] == 'www.facebook.com' or row['source'] == 'www.youtube.com' or row['source'] =='twitter.com' or row['source'] =='youtu.be' or row['source'] =='www.instagram.com':\n",
        "    return 1\n",
        "  else:\n",
        "    return 0\n",
        "\n",
        "final_news['social_media'] = final_news.apply(lambda row: if_social_media(row),axis=1)\n",
        "final_news.drop(columns=['tweet_counts','reply_counts','fact_check_url','news_url','title','source'],inplace=True)\n",
        "final_news.info()"
      ],
      "execution_count": null,
      "outputs": []
    },
    {
      "cell_type": "code",
      "metadata": {
        "id": "_lMCRqygJUBK"
      },
      "source": [
        "from sklearn import preprocessing, metrics, model_selection, linear_model, decomposition\n",
        "\n",
        "def data_preprocess(data,mode='Train'):\n",
        "  if mode == 'Train':\n",
        "    # data.pop('news_id')\n",
        "    train_data, val_data = model_selection.train_test_split(data,test_size=0.25)\n",
        "    train_y, val_y = train_data.pop('label'), val_data.pop('label')\n",
        "    return train_data, train_y, val_data, val_y"
      ],
      "execution_count": null,
      "outputs": []
    },
    {
      "cell_type": "code",
      "metadata": {
        "id": "qiO4jmk5JwiP"
      },
      "source": [
        "x_train, y_train, x_val, y_val = data_preprocess(final_news)\n",
        "standardizer = preprocessing.StandardScaler() # what are we standardizing?\n",
        "x_train = standardizer.fit_transform(x_train)\n",
        "classifier = linear_model.LogisticRegression()\n",
        "classifier.fit(x_train, y_train)"
      ],
      "execution_count": null,
      "outputs": []
    },
    {
      "cell_type": "code",
      "metadata": {
        "id": "Jjv7z9mIKxWV"
      },
      "source": [
        "y_pred = classifier.predict(x_val)"
      ],
      "execution_count": null,
      "outputs": []
    },
    {
      "cell_type": "code",
      "metadata": {
        "id": "qvB3KVFHKtMZ"
      },
      "source": [
        "from sklearn.metrics import confusion_matrix, accuracy_score\n",
        "cm = confusion_matrix(y_val, y_pred)\n",
        "print(cm)\n",
        "accuracy_score(y_val, y_pred)"
      ],
      "execution_count": null,
      "outputs": []
    },
    {
      "cell_type": "code",
      "metadata": {
        "id": "axU7I2Y0kwr4"
      },
      "source": [
        "y_score = classifier.predict_proba(x_val)[:, 1]\n",
        "from sklearn.metrics import precision_recall_curve\n",
        "from sklearn.metrics import average_precision_score, precision_recall_curve,auc\n",
        "average_precision = average_precision_score(y_val, y_score)\n",
        "print(average_precision) # PR AUC"
      ],
      "execution_count": null,
      "outputs": []
    },
    {
      "cell_type": "code",
      "metadata": {
        "id": "5MB5Apz6lK2X"
      },
      "source": [
        "from sklearn.metrics import precision_score, recall_score, f1_score\n",
        "[precision_score(y_val, y_pred),recall_score(y_val, y_pred),f1_score(y_val,y_pred)]"
      ],
      "execution_count": null,
      "outputs": []
    },
    {
      "cell_type": "code",
      "metadata": {
        "id": "KeMLEDD8LG8a"
      },
      "source": [
        "from sklearn import ensemble\n",
        "x_train, y_train, x_val, y_val = data_preprocess(final_news)\n",
        "standardizer = preprocessing.StandardScaler()\n",
        "x_train = standardizer.fit_transform(x_train)\n",
        "\n",
        "regressor = ensemble.RandomForestClassifier(n_estimators=10,criterion = 'entropy')\n",
        "regressor.fit(x_train,y_train)\n",
        "prediction_a = regressor.predict(x_train)\n",
        "print('Training data set error: ',metrics.mean_squared_error(prediction_a, y_train) ** 0.5)\n",
        "\n",
        "x_val = standardizer.transform(x_val)\n",
        "y_pred = regressor.predict(x_val)"
      ],
      "execution_count": null,
      "outputs": []
    },
    {
      "cell_type": "code",
      "metadata": {
        "id": "TCbfuveSL-ha"
      },
      "source": [
        "cm = confusion_matrix(y_val, y_pred)\n",
        "print(cm)\n",
        "accuracy_score(y_val, y_pred)"
      ],
      "execution_count": null,
      "outputs": []
    },
    {
      "cell_type": "code",
      "metadata": {
        "id": "1WYtqBQ9pvdg"
      },
      "source": [
        "y_score_rf = regressor.predict_proba(x_val)[:, 1]\n",
        "average_precision = average_precision_score(y_val, y_score_rf)\n",
        "print(average_precision) # PR AUC"
      ],
      "execution_count": null,
      "outputs": []
    },
    {
      "cell_type": "code",
      "metadata": {
        "id": "MnGp183Vpw6h"
      },
      "source": [
        "[precision_score(y_val, y_pred),recall_score(y_val, y_pred),f1_score(y_val,y_pred)]"
      ],
      "execution_count": null,
      "outputs": []
    },
    {
      "cell_type": "code",
      "metadata": {
        "id": "726WfwoqqST4"
      },
      "source": [
        "import numpy as np\n",
        "scores = [[0.9504950495049505,0.8608058608058609, 0.9834983498349835, 0.8608058608058609,0.9391941391941392,np.nan,np.nan], [0.2569861405288766,\n",
        "0.3597217361327164,0.7208863743517209,0.3624561527023767,0.7268169023993535,0.2871,0.3937],[0.6666666666666666,0.9180327868852459,0.625,0.9180327868852459,0.9438202247191011,0.4287,0.6056],[0.125,0.23236514522821577,0.7142857142857143,0.23236514522821577,0.6970954356846473,0.0690,0.0581],[0.21052631578947367,0.37086092715231794,0.6666666666666666,0.37086092715231794,0.8019093078758951,0.1143,0.1045]]\n",
        "scores_table = pd.DataFrame(scores,columns=[\"logreg w/ source\",\"logreg w/ keyword\",\"rf w/ source\",\"rf w/ keyword\",\"rf w/ keyword + source\", \"Benchmark w/ log\",\"Benchmark w/ rf\" ],index=[\"accuracy\",\"PR AUC\",\"Precision\",\"Recall Score\",\"F1 Score\"])"
      ],
      "execution_count": null,
      "outputs": []
    }
  ]
}